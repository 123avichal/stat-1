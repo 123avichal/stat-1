{
 "cells": [
  {
   "cell_type": "markdown",
   "id": "dc337990-c563-4a57-887a-2ba9a635afad",
   "metadata": {},
   "source": [
    "Q1. What is Statistics?"
   ]
  },
  {
   "cell_type": "markdown",
   "id": "8742ac6d-6c22-4e03-babd-4d0c0763a503",
   "metadata": {},
   "source": [
    "Statistics is nothing but a science of collecting , organising , analyzing the data here data means facts aur the piece of information based on fare decision\n",
    "can make\n",
    "According to Merriam-Webster dictionary, statistics is defined as “classified facts representing the conditions of a people in a state – especially the facts that can be stated in numbers or any other tabular or classified arrangement”."
   ]
  },
  {
   "cell_type": "markdown",
   "id": "0f9e0067-4d04-460a-9866-04a093407df3",
   "metadata": {},
   "source": [
    "Q2. "
   ]
  },
  {
   "cell_type": "markdown",
   "id": "2a2092f7-1d4d-4d5a-b521-8143e201e849",
   "metadata": {},
   "source": [
    "Statistics is nothing but a science of collecting , organising , analyzing the data here data means facts aur the piece of information\n",
    "\n",
    "in general there are two types of Statistics namely- descriptive Statistics and \n",
    "infrential Statistics.\n",
    "\n",
    "descriptive Statistics - in the discriptive Statistics we  organised the data in the structured form and on the basis on it we summarise the data in simplest form.in the descriptive Statistics we generally use the measurement of central tendency for example mean, median,mode form of operation, measurement of despersion'ie'variance and standard deviation etc\n",
    "for example - measure the average marks of the student\n",
    "\n",
    "infrential Statistics  - in the infrential Statistics we genrally organising the data the simplest form so that out of it we can make the conclusion of the data, in the infrential Statistics we use some test on the basis of it make conclsion of the data for example ,t test,z test etc. in the infrential Statistics we take population data and take out the sample data and make the assumption of whole data\n",
    "for example - measure the average height of 20 student out full strength ie 50\n",
    "and make a conclusion of average height of whole class\n"
   ]
  },
  {
   "cell_type": "markdown",
   "id": "a1917c9d-9150-4aa6-aa0e-45bb2078fde5",
   "metadata": {},
   "source": [
    "Q4. Categorise the following datasets with respect to quantitative and qualitative data types:\n",
    "(i) Grading in exam: A+, A, B+, B, C+, C, D, E\n",
    "(ii) Colour of mangoes: yellow, green, orange, red\n",
    "(iii) Height data of a class: [178.9, 179, 179.5, 176, 177.2, 178.3, 175.8,...]\n",
    "(iv) Number of mangoes exported by a farm: [500, 600, 478, 672, ...]"
   ]
  },
  {
   "cell_type": "markdown",
   "id": "adcc10f4-dda6-497a-8030-a55477570e1c",
   "metadata": {},
   "source": [
    "(i) Grading in exam:  A+, A, B+, B, C+, C, D, E - qualitative data\n",
    "(ii) Colour of mangoes: yellow, green, orange, red = qualitative data\n",
    "(iii) Height data of a class: [178.9, 179, 179.5, 176, 177.2, 178.3, 175.8,...]=quantitative data\n",
    "(iv) Number of mangoes exported by a farm: [500, 600, 478, 672, ...]= quantitative data"
   ]
  },
  {
   "cell_type": "markdown",
   "id": "326e953f-921e-4e5d-8d0e-1c8470adef49",
   "metadata": {},
   "source": [
    "Q7. How nominal data type is different from ordinal data type."
   ]
  },
  {
   "cell_type": "markdown",
   "id": "501cac8d-c1de-4341-ae4d-129d1ac33003",
   "metadata": {},
   "source": [
    "There are two type of data namely qualitative and quatitative. they are further divide into sub catogries \n",
    "the qualitative data further divide into nominal and ordinal\n",
    "nominal data- in the nominal data we catagories the data not based on the rank.\n",
    "The name “nominal” comes from the Latin name “nomen,” which means “name.” With the help of nominal data, we can’t do any numerical tasks or can’t give any order to sort the data. These data don’t have any meaningful order; their values are distributed into distinct categories.\n",
    "for example - pincode of state , gender,Colour of hair (Blonde, red, Brown, Black, marital status (Single, Widowed, Married),Nationality (Indian, German, American) etc\n",
    "\n",
    "ordinal data - in ordinal data we rank the data.Ordinal data have natural ordering where a number is present in some kind of order by their position on the scale. These data are used for observation like customer satisfaction, happiness, etc., but we can’t do any arithmetical tasks on them.  for example - customer feed back,"
   ]
  },
  {
   "cell_type": "markdown",
   "id": "1f9e93a0-c1d8-4c98-a1a3-cbfcadb58ae8",
   "metadata": {},
   "source": [
    "Q9. Describe the difference between descriptive and inferential statistics. Give an example of each\n",
    "type of statistics and explain how they are used."
   ]
  },
  {
   "cell_type": "markdown",
   "id": "00cc4927-f736-4ef7-8b2f-4d9537a4a1de",
   "metadata": {},
   "source": [
    "Descriptive statistics:\n",
    "\n",
    "1 Describe the features of populations and/or samples\n",
    "2 Organize and present data in a purely factual way\n",
    "3 Present final results visually, using tables, charts, or graphs\n",
    "4 Draw conclusions based on known data\n",
    "5 Use measures like central tendency, distribution, and variance\n",
    "\n",
    "they are used.- Mean, median, mode, standard deviation, range, frequency tables\n",
    "\n",
    "Inferential statistics:\n",
    "\n",
    "1 Use samples to make generalizations about larger populations\n",
    "2 Help us to make estimates and predict future outcomes\n",
    "3 Present final results in the form of probabilities\n",
    "4 Draw conclusions that go beyond the available data\n",
    "5 Use techniques like hypothesis testing, confidence intervals, and regression and correlation analysis\n",
    "they are used.-Hypothesis testing, confidence intervals, regression analysis, ANOVA (analysis of variance), chi-square tests, t-tests, etc."
   ]
  },
  {
   "cell_type": "markdown",
   "id": "c91d0816-1f28-49aa-8193-0b163ba25aaf",
   "metadata": {},
   "source": [
    "Q3. What are the different types of data and how do they differ from each other? Provide an example of\n",
    "each type of data."
   ]
  },
  {
   "cell_type": "markdown",
   "id": "e35e6e55-5642-4ea6-8705-244009bb9bb5",
   "metadata": {},
   "source": [
    "Qualitative or Categorical Data\n",
    "Qualitative data, also known as the categorical data, describes the data that fits into the categories. Qualitative data are not numerical. The categorical information involves categorical variables that describe the features such as a person’s gender, home town etc. Categorical measures are defined in terms of natural language specifications, but not in terms of numbers.\n",
    "\n",
    "Nominal Data\n",
    "Nominal data is one of the types of qualitative information which helps to label the variables without providing the numerical value. Nominal data is also called the nominal scale. It cannot be ordered and measured. But sometimes, the data can be qualitative and quantitative. Examples of nominal data are letters, symbols, words, gender etc.\n",
    "\n",
    "Ordinal Data\n",
    "Ordinal data/variable is a type of data that follows a natural order. The significant feature of the nominal data is that the difference between the data values is not determined. This variable is mostly found in surveys, finance, economics, questionnaires, and so on.\n",
    "\n",
    "\n",
    "Quantitative or Numerical Data\n",
    "Quantitative data is also known as numerical data which represents the numerical value (i.e., how much, how often, how many). Numerical data gives information about the quantities of a specific thing. Some examples of numerical data are height, length, size, weight, and so on. The quantitative data can be classified into two different types based on the data sets. The two different classDiscrete Data\n",
    "Discrete data can take only discrete values. Discrete information contains only a finite number of possible values. Those values cannot be subdivided meaningfully. Here, things can be counted in whole numbers.\n",
    "\n",
    "Example: Number of students in the class\n",
    "\n",
    "Continuous Data\n",
    "Continuous data is data that can be calculated. It has an infinite number of probable values that can be selected within a given specific range.\n",
    "\n",
    "Example: Temperature rangeifications of numerical data are discrete data and continuous data.\n",
    "\n"
   ]
  },
  {
   "cell_type": "markdown",
   "id": "fa639286-5a56-44a1-9808-7901f0b584af",
   "metadata": {},
   "source": [
    "Q5. Explain the concept of levels of measurement and give an example of a variable for each level."
   ]
  },
  {
   "cell_type": "markdown",
   "id": "4e934f39-3652-4fbc-b899-6ba3556c573c",
   "metadata": {},
   "source": [
    "Nominal Data\n",
    "Nominal data is one of the types of qualitative information which helps to label the variables without providing the numerical value. Nominal data is also called the nominal scale. It cannot be ordered and measured. But sometimes, the data can be qualitative and quantitative. Examples of nominal data are letters, symbols, words, gender etc.\n",
    "\n",
    "Ordinal Data\n",
    "Ordinal data/variable is a type of data that follows a natural order. The significant feature of the nominal data is that the difference between the data values is not determined. This variable is mostly found in surveys, finance, economics, questionnaires, and so on.\n",
    "\n",
    "\n",
    "The interval scale is a numerical scale which labels and orders variables, with a known, evenly spaced interval between each of the values. An oft-cited example of interval data is temperature in Fahrenheit, where the difference between 10 and 20 degrees Fahrenheit is exactly the same as the difference between, say, 50 and 60 degrees Fahrenheit. Learn more about interval data in this guide.\n",
    "\n",
    "\n",
    "The ratio scale is exactly the same as the interval scale, with one key difference: The ratio scale has what’s known as a “true zero.” A good example of ratio data is weight in kilograms. If something weighs zero kilograms, it truly weighs nothing—compared to temperature (interval data), where a value of zero degrees doesn’t mean there is “no temperature,” it simply means it’s extremely cold! You’ll find a full guide to ratio data here."
   ]
  },
  {
   "cell_type": "markdown",
   "id": "7aa32e84-d1e2-44cb-8151-38de979ac07d",
   "metadata": {},
   "source": [
    "Q6. Why is it important to understand the level of measurement when analyzing data? Provide an\n",
    "example to illustrate your answer."
   ]
  },
  {
   "cell_type": "markdown",
   "id": "6b877b7e-edde-4d36-8b99-7179d9f74628",
   "metadata": {},
   "source": [
    "Level of measurement is important as it determines the type of statistical analysis you can carry out. As a result, it affects both the nature and the depth of insights you’re able to glean from your data. Certain statistical tests can only be performed where more precise levels of measurement have been used, so it’s essential to plan in advance how you’ll gather and measure your data.\n",
    "\n",
    "Levels of measurement are important because they indicate the extent to which statisticians, marketing analysts and financial analysts can use existing data. For instance, if you classify your data at the ordinal level of measurement, you know that you can evaluate how items compare to each other based on a specific hierarchy. If you wanted to analyze the exact distance between items rather than understand only how they compare to one another, you might want to rely on data at the interval level of measurement."
   ]
  },
  {
   "cell_type": "markdown",
   "id": "be4a4657-ff4d-4552-977e-24943a0afc71",
   "metadata": {},
   "source": [
    "Q8. Which type of plot can be used to display data in terms of range?"
   ]
  },
  {
   "cell_type": "markdown",
   "id": "f9e70a2d-3611-4ec0-8a42-65b387242c94",
   "metadata": {},
   "source": [
    "Boxplots display data ranges for groups within a dataset. In boxplots, it equals the entire length of the whiskers for each group. The minimum and maximum values appear at the ends of the whiskers except when there are outliers. Consequently, ranges in boxplots exclude outliers."
   ]
  },
  {
   "cell_type": "markdown",
   "id": "7a94807b-885c-4808-995a-719b6905ff46",
   "metadata": {},
   "source": [
    "Q10. What are some common measures of central tendency and variability used in statistics? Explain\n",
    "how each measure can be used to describe a dataset."
   ]
  },
  {
   "cell_type": "markdown",
   "id": "2c7cfd8b-f1d8-4829-a206-6211fc8aee13",
   "metadata": {},
   "source": [
    "In addition to figuring out the measures of central tendency, we may need to summarize the amount of variability we have in our distribution. In other words, we need to determine if the observations tend to cluster together or if they tend to be spread out. Consider the following example:\n",
    "\n",
    "Sample 1: {0, 0, 0, 0, 25}\n",
    "Sample 2: {5, 5, 5, 5, 5}\n",
    "\n",
    "Both of these samples have identical means (5) and an identical number of observations (n = 5), but the amount of variation between the two samples differs considerably. Sample 2 has no variability (all scores are exactly the same), whereas Sample 1 has relatively more (one case varies substantially from the other four). In this course, we will be going over four measures of variability: the range, the inter-quartile range (IQR), the variance and the standard deviation.\n",
    "\n",
    "The central tendency is stated as the statistical measure that represents the single value of the entire distribution or a dataset. It aims to provide an accurate description of the entire data in the distribution.\n",
    "\n",
    "Mean\n",
    "The mean represents the average value of the dataset. It can be calculated as the sum of all the values in the dataset divided by the number of values. In general, it is considered as the arithmetic mean. Some other measures of mean used to find the central tendency are as follows:\n",
    "\n",
    "Geometric Mean\n",
    "Harmonic Mean\n",
    "Weighted Mean\n",
    "\n",
    "Median\n",
    "Median is the middle value of the dataset in which the dataset is arranged in the ascending order or in descending order. When the dataset contains an even number of values, then the median value of the dataset can be found by taking the mean of the middle two values.\n",
    "\n",
    "Mode\n",
    "The mode represents the frequently occurring value in the dataset. Sometimes the dataset may contain multiple modes and in some cases, it does not contain any mode at all."
   ]
  }
 ],
 "metadata": {
  "kernelspec": {
   "display_name": "Python 3 (ipykernel)",
   "language": "python",
   "name": "python3"
  },
  "language_info": {
   "codemirror_mode": {
    "name": "ipython",
    "version": 3
   },
   "file_extension": ".py",
   "mimetype": "text/x-python",
   "name": "python",
   "nbconvert_exporter": "python",
   "pygments_lexer": "ipython3",
   "version": "3.10.8"
  }
 },
 "nbformat": 4,
 "nbformat_minor": 5
}
